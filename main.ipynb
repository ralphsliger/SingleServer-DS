from tabulate import tabulate
import matplotlib.pyplot as plt

menu = """Show Employee Statistics:  .
1 - Alfonso
2 - Efrain
3 - Elio
4 - German
5 - Jaime
6 - General Statistics
"""
print(menu)
election = int(input("Choose: "))


if election is 1:

 n=0
 file0=open('Alfonso.txt','r')
 for linea in file0.readlines():
  	n+=1
 file0.close()

 A= []

 file01=open('Alfonso.txt','r')

 for i in range(n):
	 infile01=list(file01.readline())
	 A.append(infile01[:1][0])
 file01.close()


 Auxtable= []
 file02 = open('Alfonso1.txt')
 for i in range(n):
   infile02=(list(map(float,(file02.readline().split()))))
   Auxtable.append(infile02[:1][0])
 file02.close()

 Atable = []
 Stable = []
 Dtable = []
 c = 0

 for i in range(len(A)):
   c += Auxtable[i]
   if(A[i] == 'P'):
     Atable.append(c - 1.13)
     Stable.append(Auxtable[i])

 Ctable = [0.0 for i in range(len(Atable))]

 for i in range(len(Atable)):

   if (Atable[i] < Ctable[i-1]):
	  	Dtable.append(Ctable[i-1]-Atable[i])
   else:
	    Dtable.append(0.0)
   Ctable[i]= Atable[i]+Stable[i]+Dtable[i]



 j = len(Atable)

 Tabla={}
 Tabla['I']  = [i+1 for i in range(j)]
 Tabla['Ai'] = Atable
 Tabla['Si'] = Stable
 Tabla['Di'] = Dtable
 Tabla['Ci'] = Ctable


 TotalS = 0.0
 TotalD = 0.0
 #TotalD = 0
 for i in Stable:
  	TotalS+=i
 for i in Dtable:
 	 TotalD+=i

 Rprom = Atable[j-1]/j
 Cprom = Ctable[j-1]/j
 Sprom = TotalS/j
 Dprom = TotalD/j
 Wprom = Sprom+Dprom
 Lprom = Cprom*Wprom
 Qprom = Cprom*Dprom
 Xprom = Cprom*Sprom


 print(tabulate(Tabla,headers='keys',tablefmt='grid'))
 print("\nEmployee name: Alfonso\n")

 print("\nJob-Average Statistics \n\n\tAverage Inter-Arrival Time: %s \n\tAverage Service Time: %s \n\tAverage Delay Time: %s"
  %(Rprom,Sprom,Dprom))
 print("\n\tArrival Rate: %s  \n\tService Rate: %s \n\tAverage Wait: %s" %(1/Rprom,1/Sprom,Wprom))

 print("\nTime-Averaged Statistics \n\n\tTime-Averaged Number In The Node: %s \n\tTime-Averaged Number In The Queue: %s" %(Lprom,Qprom))
 print("\tTime-Averaged Number In Service: %s "%(Xprom))
  
	
elif election is 2:

 n1=0
 file1=open('Efrain.txt','r')
 for linea in file1.readlines():
	 n1+=1
 file1.close()

 A1= []

 file11=open('Efrain.txt','r')

 for i in range(n1):
    infile11=list(file11.readline())
    A1.append(infile11[:1][0])
 file11.close()


 Auxtable1= []
 file12 = open('Efrain1.txt')
 for i in range(n1):
   infile12=(list(map(float,(file12.readline().split()))))
   Auxtable1.append(infile12[:1][0])
 file12.close()

 Atable1 = []
 Stable1 = []
 Dtable1 = []
 c1 = 0

 for i in range(len(A1)):
   c1 += Auxtable1[i]
   if(A1[i] == 'L'):
     Atable1.append(c1 - 2.55)
     Stable1.append(Auxtable1[i])
 
 Ctable1 = [0.0 for i in range(len(Atable1))]

 for i in range(len(Atable1)):

   if (Atable1[i] < Ctable1[i-1]):
	  	Dtable1.append(Ctable1[i-1]-Atable1[i])
   else:
	    Dtable1.append(0.0)
   Ctable1[i]= Atable1[i]+Stable1[i]+Dtable1[i]

 
 j1 = len(Atable1)

 Tabla1={}
 Tabla1['I']  = [i+1 for i in range(j1)]
 Tabla1['Ai'] = Atable1
 Tabla1['Si'] = Stable1
 Tabla1['Di'] = Dtable1
 Tabla1['Ci'] = Ctable1


 TotalS1 = 0.0
 TotalD1 = 0.0
 #TotalD = 0
 for i in Stable1:
  	TotalS1+=i
 for i in Dtable1:
  	TotalD1+=i

 Rprom1 = Atable1[j1-1]/j1
 Cprom1 = Ctable1[j1-1]/j1
 Sprom1 = TotalS1/j1
 Dprom1 = TotalD1/j1
 Wprom1 = Sprom1+Dprom1
 Lprom1 = Cprom1*Wprom1
 Qprom1 = Cprom1*Dprom1
 Xprom1 = Cprom1*Sprom1
 
 print(tabulate(Tabla1,headers='keys',tablefmt='grid'))
 print("\nEmployee name: Efrain\n")

 print("\nJob-Average Statistics \n\n\tAverage Inter-Arrival Time: %s \n\tAverage Service Time: %s \n\tAverage Delay Time: %s"
  %(Rprom1,Sprom1,Dprom1))
 print("\n\tArrival Rate: %s  \n\tService Rate: %s \n\tAverage Wait: %s" %(1/Rprom1,1/Sprom1,Wprom1))

 print("\nTime-Averaged Statistics \n\n\tTime-Averaged Number In The Node: %s \n\tTime-Averaged Number In The Queue: %s" %(Lprom1,Qprom1))
 print("\tTime-Averaged Number In Service: %s "%(Xprom1))

	
elif election is 3:

 n2=0
 file2=open('Elio.txt','r')
 for linea in file2.readlines():
	 n2+=1
 file2.close()

 A2= []

 file21=open('Elio.txt','r')

 for i in range(n2):
	 infile21=list(file21.readline())
	 A2.append(infile21[:1][0])
 file21.close()


 Auxtable2= []
 file22 = open('Elio1.txt')
 for i in range(n2):
   infile22=(list(map(float,(file22.readline().split()))))
   Auxtable2.append(infile22[:1][0])
 file22.close()

 Atable2 = []
 Stable2 = []
 Dtable2 = []
 c2 = 0

 for i in range(len(A2)):
   c2 += Auxtable2[i]
   if(A2[i] == 'P'):
     Atable2.append(c2 - 1.13)
     Stable2.append(Auxtable2[i])

 Ctable2 = [0.0 for i in range(len(Atable2))]

 for i in range(len(Atable2)):

   if (Atable2[i] < Ctable2[i-1]):
	  	Dtable2.append(Ctable2[i-1]-Atable2[i])
   else:
	    Dtable2.append(0.0)
   Ctable2[i]= Atable2[i]+Stable2[i]+Dtable2[i]

   j2 = len(Atable2)

 Tabla2={}
 Tabla2['I']  = [i+1 for i in range(j2)]
 Tabla2['Ai'] = Atable2
 Tabla2['Si'] = Stable2
 Tabla2['Di'] = Dtable2
 Tabla2['Ci'] = Ctable2

 TotalS2 = 0.0
 TotalD2 = 0.0
 #TotalD = 0
 for i in Stable2:
   TotalS2+=i
 for i in Dtable2:
 	 TotalD2+=i

 Rprom2 = Atable2[j2-1]/j2
 Cprom2 = Ctable2[j2-1]/j2
 Sprom2 = TotalS2/j2
 Dprom2 = TotalD2/j2
 Wprom2 = Sprom2+Dprom2
 Lprom2 = Cprom2*Wprom2
 Qprom2 = Cprom2*Dprom2
 Xprom2 = Cprom2*Sprom2



  
 print(tabulate(Tabla2,headers='keys',tablefmt='grid'))
 print("\nEmployee name: Elio\n")

 print("\nJob-Average Statistics \n\n\tAverage Inter-Arrival Time: %s \n\tAverage Service Time: %s \n\tAverage Delay Time: %s"
  %(Rprom2,Sprom2,Dprom2))
 print("\n\tArrival Rate: %s  \n\tService Rate: %s \n\tAverage Wait: %s" %(1/Rprom2,1/Sprom2,Wprom2))

 print("\nTime-Averaged Statistics \n\n\tTime-Averaged Number In The Node: %s \n\tTime-Averaged Number In The Queue: %s" %(Lprom2,Qprom2))
 print("\tTime-Averaged Number In Service: %s "%(Xprom2))
  

elif election is 4:
 n3=0
 file3=open('German.txt','r')
 for linea in file3.readlines():
	 n3+=1
 file3.close()

 A3= []

 file31=open('German.txt','r')

 for i in range(n3):
	 infile31=list(file31.readline())
	 A3.append(infile31[:1][0])
 file1.close()


 Auxtable3= []
 file32 = open('German1.txt')
 for i in range(n3):
   infile32=(list(map(float,(file32.readline().split()))))
   Auxtable3.append(infile32[:1][0])
 file32.close()


 Atable3 = []
 Stable3 = []
 Dtable3 = []
 c3 = 0

 for i in range(len(A3)):
   c3 += Auxtable3[i]
   if(A3[i] == 'P'):
     Atable3.append(c3 - 1.21)
     Stable3.append(Auxtable3[i])

 Ctable3 = [0.0 for i in range(len(Atable3))]

 for i in range(len(Atable3)):

   if (Atable3[i] < Ctable3[i-1]):
	  	Dtable3.append(Ctable3[i-1]-Atable3[i])
   else:
	    Dtable3.append(0.0)
   Ctable3[i]= Atable3[i]+Stable3[i]+Dtable3[i]

 j3 = len(Atable3)

 Tabla3={}
 Tabla3['I']  = [i+1 for i in range(j3)]
 Tabla3['Ai'] = Atable3
 Tabla3['Si'] = Stable3
 Tabla3['Di'] = Dtable3
 Tabla3['Ci'] = Ctable3

 TotalS3 = 0.0
 TotalD3 = 0.0
 #TotalD = 0
 for i in Stable3:
  	TotalS3+=i
 for i in Dtable3:
  	TotalD3+=i

 Rprom3 = Atable3[j3-1]/j3
 Cprom3 = Ctable3[j3-1]/j3
 Sprom3 = TotalS3/j3
 Dprom3 = TotalD3/j3
 Wprom3 = Sprom3+Dprom3
 Lprom3 = Cprom3*Wprom3
 Qprom3 = Cprom3*Dprom3
 Xprom3 = Cprom3*Sprom3


 print(tabulate(Tabla3,headers='keys',tablefmt='grid'))
 print("\nEmployee name: German\n")


 print("\nJob-Average Statistics \n\n\tAverage Inter-Arrival Time: %s \n\tAverage Service Time: %s \n\tAverage Delay Time: %s"
  %(Rprom3,Sprom3,Dprom3))
 print("\n\tArrival Rate: %s  \n\tService Rate: %s \n\tAverage Wait: %s" %(1/Rprom3,1/Sprom3,Wprom3))

 print("\nTime-Averaged Statistics \n\n\tTime-Averaged Number In The Node: %s \n\tTime-Averaged Number In The Queue: %s" %(Lprom3,Qprom3))
 print("\tTime-Averaged Number In Service: %s "%(Xprom3))
	
elif election is 5:

 n4=0
 file4=open('Jaime.txt','r')
 for linea in file4.readlines():
	 n4+=1
 file4.close()

 A4= []

 file41=open('Jaime.txt','r')

 for i in range(n4):
	 infile41=list(file41.readline())
	 A4.append(infile41[:1][0])
 file41.close()


 Auxtable4= []
 file42 = open('Jaime1.txt')
 for i in range(n4):
   infile42=(list(map(float,(file42.readline().split()))))
   Auxtable4.append(infile42[:1][0])
 file42.close()

 Atable4 = []
 Stable4 = []
 Dtable4 = []
 c4 = 0

 for i in range(len(A4)):
   c4 += Auxtable4[i]
   if(A4[i] == 'P'):
     Atable4.append(c4- 2.28)
     Stable4.append(Auxtable4[i])

 Ctable4 = [0.0 for i in range(len(Atable4))]

 for i in range(len(Atable4)):

   if (Atable4[i] < Ctable4[i-1]):
	  	Dtable4.append(Ctable4[i-1]-Atable4[i])
   else:
	    Dtable4.append(0.0)
   Ctable4[i]= Atable4[i]+Stable4[i]+Dtable4[i]

 j4 = len(Atable4)

 Tabla4={}
 Tabla4['I']  = [i+1 for i in range(j4)]
 Tabla4['Ai'] = Atable4
 Tabla4['Si'] = Stable4
 Tabla4['Di'] = Dtable4
 Tabla4['Ci'] = Ctable4 


 TotalS4 = 0.0
 TotalD4 = 0.0
 #TotalD = 0
 for i in Stable4:
  	TotalS4+=i
 for i in Dtable4:
  	TotalD4+=i

 Rprom4 = Atable4[j4-1]/j4
 Cprom4 = Ctable4[j4-1]/j4
 Sprom4 = TotalS4/j4
 Dprom4 = TotalD4/j4
 Wprom4 = Sprom+Dprom
 Lprom4 = Cprom*Wprom
 Qprom4 = Cprom*Dprom
 Xprom4 = Cprom*Sprom


 print(tabulate(Tabla3,headers='keys',tablefmt='grid'))
 print("Employee Name: Jaime")


 print("\nJob-Average Statistics \n\n\tAverage Inter-Arrival Time: %s \n\tAverage Service Time: %s \n\tAverage Delay Time: %s"
  %(Rprom4,Sprom4,Dprom4))
 print("\n\tArrival Rate: %s  \n\tService Rate: %s \n\tAverage Wait: %s" %(1/Rprom4,1/Sprom4,Wprom4))

 print("\nTime-Averaged Statistics \n\n\tTime-Averaged Number In The Node: %s \n\tTime-Averaged Number In The Queue: %s" %(Lprom4,Qprom4))
 print("\tTime-Averaged Number In Service: %s "%(Xprom4))


elif election is 6:

 n=0
 file0=open('Alfonso.txt','r')
 for linea in file0.readlines():
	 n+=1
 file0.close()

 A= []

 file01=open('Alfonso.txt','r')

 for i in range(n):
	 infile01=list(file01.readline())
	 A.append(infile01[:1][0])
 file01.close()


 Auxtable= []
 file02 = open('Alfonso1.txt')
 for i in range(n):
   infile02=(list(map(float,(file02.readline().split()))))
   Auxtable.append(infile02[:1][0])
 file02.close()


 n1=0
 file1=open('Efrain.txt','r')
 for linea in file1.readlines():
	 n1+=1
 file1.close()

 A1= []

 file11=open('Efrain.txt','r')

 for i in range(n1):
  infile11=list(file11.readline())
  A1.append(infile11[:1][0])
 file11.close()


 Auxtable1= []
 file12 = open('Efrain1.txt')
 for i in range(n1):
   infile12=(list(map(float,(file12.readline().split()))))
   Auxtable1.append(infile12[:1][0])
 file12.close()

 n2=0
 file2=open('Elio.txt','r')
 for linea in file2.readlines():
	 n2+=1
 file2.close()

 A2= []

 file21=open('Elio.txt','r')

 for i in range(n2):
	 infile21=list(file21.readline())
	 A2.append(infile21[:1][0])
 file21.close()


 Auxtable2= []
 file22 = open('Elio1.txt')
 for i in range(n2):
   infile22=(list(map(float,(file22.readline().split()))))
   Auxtable2.append(infile22[:1][0])
 file22.close()

 n3=0
 file3=open('German.txt','r')
 for linea in file3.readlines():
	 n3+=1
 file3.close()

 A3= []

 file31=open('German.txt','r')

 for i in range(n3):
	 infile31=list(file31.readline())
	 A3.append(infile31[:1][0])
 file1.close()


 Auxtable3= []
 file32 = open('German1.txt')
 for i in range(n3):
   infile32=(list(map(float,(file32.readline().split()))))
   Auxtable3.append(infile32[:1][0])
 file32.close()

 n4=0
 file4=open('Jaime.txt','r')
 for linea in file4.readlines():
	 n4+=1
 file4.close()

 A4= []

 file41=open('Jaime.txt','r')

 for i in range(n4):
	 infile41=list(file41.readline())
	 A4.append(infile41[:1][0])
 file41.close()


 Auxtable4= []
 file42 = open('Jaime1.txt')
 for i in range(n4):
   infile42=(list(map(float,(file42.readline().split()))))
   Auxtable4.append(infile42[:1][0])
 file42.close()


 #**************LLENAR TABLAS DE TIEMPOS**********

 Atable = []
 Stable = []
 Dtable = []
 c = 0

 for i in range(len(A)):
   c += Auxtable[i]
   if(A[i] == 'P'):
     Atable.append(c - 1.13)
     Stable.append(Auxtable[i])

 Ctable = [0.0 for i in range(len(Atable))]

 for i in range(len(Atable)):

   if (Atable[i] < Ctable[i-1]):
	  	Dtable.append(Ctable[i-1]-Atable[i])
   else:
	    Dtable.append(0.0)
   Ctable[i]= Atable[i]+Stable[i]+Dtable[i]



 Atable1 = []
 Stable1 = []
 Dtable1 = []
 c1 = 0

 for i in range(len(A1)):
   c1 += Auxtable1[i]
   if(A1[i] == 'L'):
     Atable1.append(c1 - 2.55)
     Stable1.append(Auxtable1[i])
 
 Ctable1 = [0.0 for i in range(len(Atable1))]

 for i in range(len(Atable1)):

   if (Atable1[i] < Ctable1[i-1]):
	  	Dtable1.append(Ctable1[i-1]-Atable1[i])
   else:
	    Dtable1.append(0.0)
   Ctable1[i]= Atable1[i]+Stable1[i]+Dtable1[i]


 Atable2 = []
 Stable2 = []
 Dtable2 = []
 c2 = 0

 for i in range(len(A2)):
   c2 += Auxtable2[i]
   if(A2[i] == 'P'):
     Atable2.append(c2 - 1.13)
     Stable2.append(Auxtable2[i])

 Ctable2 = [0.0 for i in range(len(Atable2))]

 for i in range(len(Atable2)):

   if (Atable2[i] < Ctable2[i-1]):
	  	Dtable2.append(Ctable2[i-1]-Atable2[i])
   else:
	    Dtable2.append(0.0)
   Ctable2[i]= Atable2[i]+Stable2[i]+Dtable2[i]


 Atable3 = []
 Stable3 = []
 Dtable3 = []
 c3 = 0

 for i in range(len(A3)):
   c3 += Auxtable3[i]
   if(A3[i] == 'P'):
     Atable3.append(c3 - 1.21)
     Stable3.append(Auxtable3[i])

 Ctable3 = [0.0 for i in range(len(Atable3))]

 for i in range(len(Atable3)):

   if (Atable3[i] < Ctable3[i-1]):
	  	Dtable3.append(Ctable3[i-1]-Atable3[i])
   else:
	    Dtable3.append(0.0)
   Ctable3[i]= Atable3[i]+Stable3[i]+Dtable3[i]


 Atable4 = []
 Stable4 = []
 Dtable4 = []
 c4 = 0

 for i in range(len(A4)):
   c4 += Auxtable4[i]
   if(A4[i] == 'P'):
     Atable4.append(c4- 2.28)
     Stable4.append(Auxtable4[i])

 Ctable4 = [0.0 for i in range(len(Atable4))]

 for i in range(len(Atable4)):

   if (Atable4[i] < Ctable4[i-1]):
	  	Dtable4.append(Ctable4[i-1]-Atable4[i])
   else:
	    Dtable4.append(0.0)
   Ctable4[i]= Atable4[i]+Stable4[i]+Dtable4[i]






#****** ESTADISTICAS DE LOS TRABAJADORES*********
 j = len(Atable)

 Tabla={}
 Tabla['I']  = [i+1 for i in range(j)]
 Tabla['Ai'] = Atable
 Tabla['Si'] = Stable
 Tabla['Di'] = Dtable
 Tabla['Ci'] = Ctable


 TotalS = 0.0
 TotalD = 0.0
 #TotalD = 0
 for i in Stable:
  	TotalS+=i
 for i in Dtable:
 	 TotalD+=i

 Rprom = Atable[j-1]/j
 Cprom = Ctable[j-1]/j
 Sprom = TotalS/j
 Dprom = TotalD/j
 Wprom = Sprom+Dprom
 Lprom = Cprom*Wprom
 Qprom = Cprom*Dprom
 Xprom = Cprom*Sprom


 j1 = len(Atable1)

 Tabla1={}
 Tabla1['I']  = [i+1 for i in range(j1)]
 Tabla1['Ai'] = Atable1
 Tabla1['Si'] = Stable1
 Tabla1['Di'] = Dtable1
 Tabla1['Ci'] = Ctable1


 TotalS1 = 0.0
 TotalD1 = 0.0
 #TotalD = 0
 for i in Stable1:
  	TotalS1+=i
 for i in Dtable1:
  	TotalD1+=i

 Rprom1 = Atable1[j1-1]/j1
 Cprom1 = Ctable1[j1-1]/j1
 Sprom1 = TotalS1/j1
 Dprom1 = TotalD1/j1
 Wprom1 = Sprom1+Dprom1
 Lprom1 = Cprom1*Wprom1
 Qprom1 = Cprom1*Dprom1
 Xprom1 = Cprom1*Sprom1


 j2 = len(Atable2)

 Tabla2={}
 Tabla2['I']  = [i+1 for i in range(j2)]
 Tabla2['Ai'] = Atable2
 Tabla2['Si'] = Stable2
 Tabla2['Di'] = Dtable2
 Tabla2['Ci'] = Ctable2

 TotalS2 = 0.0
 TotalD2 = 0.0
 #TotalD = 0
 for i in Stable2:
   TotalS2+=i
 for i in Dtable2:
 	 TotalD2+=i

 Rprom2 = Atable2[j2-1]/j2
 Cprom2 = Ctable2[j2-1]/j2
 Sprom2 = TotalS2/j2
 Dprom2 = TotalD2/j2
 Wprom2 = Sprom2+Dprom2
 Lprom2 = Cprom2*Wprom2
 Qprom2 = Cprom2*Dprom2
 Xprom2 = Cprom2*Sprom2


 j3 = len(Atable3)

 Tabla3={}
 Tabla3['I']  = [i+1 for i in range(j3)]
 Tabla3['Ai'] = Atable3
 Tabla3['Si'] = Stable3
 Tabla3['Di'] = Dtable3
 Tabla3['Ci'] = Ctable3

 TotalS3 = 0.0
 TotalD3 = 0.0
 #TotalD = 0
 for i in Stable3:
  	TotalS3+=i
 for i in Dtable3:
  	TotalD3+=i

 Rprom3 = Atable3[j3-1]/j3
 Cprom3 = Ctable3[j3-1]/j3
 Sprom3 = TotalS3/j3
 Dprom3 = TotalD3/j3
 Wprom3 = Sprom3+Dprom3
 Lprom3 = Cprom3*Wprom3
 Qprom3 = Cprom3*Dprom3
 Xprom3 = Cprom3*Sprom3


 j4 = len(Atable4)

 Tabla4={}
 Tabla4['I']  = [i+1 for i in range(j4)]
 Tabla4['Ai'] = Atable4
 Tabla4['Si'] = Stable4
 Tabla4['Di'] = Dtable4
 Tabla4['Ci'] = Ctable4 


 TotalS4 = 0.0
 TotalD4 = 0.0
 #TotalD = 0
 for i in Stable4:
  	TotalS4+=i
 for i in Dtable4:
  	TotalD4+=i

 Rprom4 = Atable4[j4-1]/j4
 Cprom4 = Ctable4[j4-1]/j4
 Sprom4 = TotalS4/j4
 Dprom4 = TotalD4/j4
 Wprom4 = Sprom+Dprom
 Lprom4 = Cprom*Wprom
 Qprom4 = Cprom*Dprom
 Xprom4 = Cprom*Sprom




 RpromG = (Rprom + Rprom1 + Rprom2 + Rprom3 + Rprom4)/5
 CpromG = (Cprom + Cprom1 + Cprom2 + Cprom3 + Cprom4)/5
 SpromG = (Sprom + Sprom1 + Sprom2 + Sprom3 + Sprom4)/5
 DpromG = (Dprom + Dprom1 + Dprom2 + Dprom3 + Dprom4)/5
 WpromG = (Wprom + Wprom1 + Wprom2 + Wprom3 + Wprom4)/5
 LpromG = (Lprom + Lprom1 + Lprom2 + Lprom3 + Lprom4)/5
 QpromG = (Qprom + Qprom1 + Qprom2 + Qprom3 + Qprom4)/5
 XpromG = (Xprom + Xprom1 + Xprom2 + Xprom3 + Xprom4)/5



 print("\nGeneral Statistics: \n")
 print("\nJob-Average Statistics \n\n\tAverage Inter-Arrival Time: %s \n\tAverage Service Time: %s \n\tAverage Delay Time: %s"
   %(RpromG,SpromG,DpromG))
 print("\n\tArrival Rate: %s  \n\tService Rate: %s \n\tAverage Wait: %s" %(1/RpromG,1/SpromG,WpromG))

 print("\nTime-Averaged Statistics \n\n\tTime-Averaged Number In The Node: %s \n\tTime-Averaged Number In The Queue: %s" %(LpromG,QpromG))
 print("\tTime-Averaged Number In Service: %s "%(XpromG))

  

elif(election <= 0 or election > 6):
  print("Invalid Option")







  
  
  
 



